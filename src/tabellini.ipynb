{
 "cells": [
  {
   "cell_type": "code",
   "execution_count": 3,
   "metadata": {},
   "outputs": [],
   "source": [
    "import numpy as np\n",
    "import pandas as pd\n",
    "\n",
    "from datetime import date\n",
    "from utils import *\n",
    "\n",
    "pd.options.mode.chained_assignment = None\n",
    "pd.set_option('display.max_columns', 100)\n",
    "sys.path.insert(0, 'C:\\\\Users\\\\valen\\\\OneDrive\\\\Documenti\\\\GSQSA\\\\gsqsa_basket\\\\src')"
   ]
  },
  {
   "cell_type": "code",
   "execution_count": 4,
   "metadata": {},
   "outputs": [],
   "source": [
    "data_path = \"C:/Users/valen/OneDrive/Documenti/GSQSA/gsqsa_basket/input_data/\"\n",
    "output_path = \"C:/Users/valen/OneDrive/Documenti/GSQSA/gsqsa_basket/output/\"\n",
    "\n",
    "# read all sheets into dict\n",
    "df_dict = pd.read_excel(data_path+\"tabellini.xlsx\", sheet_name=None)\n",
    "\n",
    "players_bio = pd.read_excel(data_path+\"players_bio.xlsx\")"
   ]
  },
  {
   "cell_type": "code",
   "execution_count": 5,
   "metadata": {},
   "outputs": [],
   "source": [
    "if __name__ == \"__main__\":\n",
    "\n",
    "    data_path = \"C:/Users/valen/OneDrive/Documenti/GSQSA/gsqsa_basket/input_data/\"\n",
    "    output_path = \"C:/Users/valen/OneDrive/Documenti/GSQSA/gsqsa_basket/output/\"\n",
    "    \n",
    "    # read all sheets into dict\n",
    "    df_dict = pd.read_excel(data_path+\"tabellini.xlsx\", sheet_name=None)\n",
    "\n",
    "    # read players bio\n",
    "    players_bio = pd.read_excel(data_path+\"players_bio.xlsx\")\n",
    "    players_bio['Age'] = players_bio.BORN.apply(lambda x: age(x))\n",
    "    \n",
    "    # clean df\n",
    "    df_dict_cleaned = {k:clean_stats(v) for k, v in df_dict.items()}"
   ]
  },
  {
   "cell_type": "code",
   "execution_count": null,
   "metadata": {},
   "outputs": [],
   "source": []
  }
 ],
 "metadata": {
  "kernelspec": {
   "display_name": "Python 3.8.10 64-bit",
   "language": "python",
   "name": "python3"
  },
  "language_info": {
   "codemirror_mode": {
    "name": "ipython",
    "version": 3
   },
   "file_extension": ".py",
   "mimetype": "text/x-python",
   "name": "python",
   "nbconvert_exporter": "python",
   "pygments_lexer": "ipython3",
   "version": "3.8.10"
  },
  "orig_nbformat": 4,
  "vscode": {
   "interpreter": {
    "hash": "d150d9f6c9f1cb6d5bf1219272cb486e76a3559191c859345d20c08c6a7a37ad"
   }
  }
 },
 "nbformat": 4,
 "nbformat_minor": 2
}
